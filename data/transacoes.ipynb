{
  "nbformat": 4,
  "nbformat_minor": 0,
  "metadata": {
    "colab": {
      "provenance": []
    },
    "kernelspec": {
      "name": "python3",
      "display_name": "Python 3"
    },
    "language_info": {
      "name": "python"
    }
  },
  "cells": [
    {
      "cell_type": "code",
      "execution_count": null,
      "metadata": {
        "id": "9IGcTQu5wZIm"
      },
      "outputs": [],
      "source": [
        "import pandas as pd\n",
        "import numpy as np\n",
        "import random\n",
        "from datetime import datetime, timedelta\n",
        "\n",
        "# Número de transações simuladas\n",
        "n = 10000\n",
        "\n",
        "# Gerar IDs de transação e usuário\n",
        "ids_transacoes = [f\"TX{i:06d}\" for i in range(n)]\n",
        "ids_usuarios = [f\"U{random.randint(1, 1000):04d}\" for _ in range(n)]\n",
        "\n",
        "# Gerar valores de transações com distribuição normal e outliers\n",
        "valores = np.round(np.random.normal(loc=200, scale=50, size=n), 2)\n",
        "valores[np.random.choice(n, size=200, replace=False)] *= 10  # Outliers\n",
        "\n",
        "# Gerar datas e horários aleatórios\n",
        "data_inicio = datetime(2024, 1, 1)\n",
        "datas = [data_inicio + timedelta(minutes=random.randint(0, 60*24*90)) for _ in range(n)]\n",
        "\n",
        "# Extrair hora para análise de turno\n",
        "horas = [dt.hour for dt in datas]\n",
        "\n",
        "# Canais\n",
        "canais = np.random.choice(['app', 'web', 'ATM'], size=n, p=[0.5, 0.3, 0.2])\n",
        "\n",
        "# Localização (latitude e longitude dentro do Brasil)\n",
        "latitudes = np.random.uniform(-30.0, -3.0, n)\n",
        "longitudes = np.random.uniform(-70.0, -34.0, n)\n",
        "\n",
        "# Dispositivos\n",
        "dispositivos = np.random.choice(['iPhone', 'Android', 'Windows', 'Linux'], size=n)\n",
        "\n",
        "# Rótulo de fraude: 2% das transações são fraudulentas\n",
        "fraudes = np.random.choice([0, 1], size=n, p=[0.98, 0.02])\n",
        "\n",
        "# Criar DataFrame\n",
        "df = pd.DataFrame({\n",
        "    'id_transacao': ids_transacoes,\n",
        "    'id_usuario': ids_usuarios,\n",
        "    'valor': valores,\n",
        "    'data_hora': datas,\n",
        "    'hora': horas,\n",
        "    'canal': canais,\n",
        "    'latitude': latitudes,\n",
        "    'longitude': longitudes,\n",
        "    'dispositivo': dispositivos,\n",
        "    'fraude': fraudes\n",
        "})\n",
        "\n",
        "# Salvar para usar no projeto\n",
        "df.to_csv('data/transacoes.csv', index=False)\n",
        "print(df.head())\n"
      ]
    }
  ]
}