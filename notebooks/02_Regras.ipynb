{
  "nbformat": 4,
  "nbformat_minor": 0,
  "metadata": {
    "colab": {
      "provenance": []
    },
    "kernelspec": {
      "name": "python3",
      "display_name": "Python 3"
    },
    "language_info": {
      "name": "python"
    }
  },
  "cells": [
    {
      "cell_type": "code",
      "execution_count": null,
      "metadata": {
        "id": "xtGmzQHavb7l"
      },
      "outputs": [],
      "source": [
        "import pandas as pd\n",
        "from src.features import adicionar_features\n",
        "from src.regras import gerar_score_alerta\n",
        "\n",
        "df = pd.read_csv('../data/transacoes.csv')\n",
        "df = adicionar_features(df)\n",
        "df = gerar_score_alerta(df)\n",
        "\n",
        "from sklearn.metrics import classification_report, confusion_matrix\n",
        "print(confusion_matrix(df['fraude'], df['alerta']))\n",
        "print(classification_report(df['fraude'], df['alerta']))\n"
      ]
    }
  ]
}