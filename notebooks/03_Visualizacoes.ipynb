{
  "nbformat": 4,
  "nbformat_minor": 0,
  "metadata": {
    "colab": {
      "provenance": []
    },
    "kernelspec": {
      "name": "python3",
      "display_name": "Python 3"
    },
    "language_info": {
      "name": "python"
    }
  },
  "cells": [
    {
      "cell_type": "code",
      "execution_count": null,
      "metadata": {
        "id": "BKSHMkrEvnHr"
      },
      "outputs": [],
      "source": [
        "import pandas as pd\n",
        "import seaborn as sns\n",
        "import matplotlib.pyplot as plt\n",
        "from src.features import adicionar_features\n",
        "from src.regras import gerar_score_alerta\n",
        "\n",
        "df = pd.read_csv('../data/transacoes.csv')\n",
        "df = gerar_score_alerta(adicionar_features(df))\n",
        "\n",
        "sns.boxplot(data=df, x='fraude', y='score_alerta')\n",
        "plt.title(\"Score de Alerta por Fraude\")\n",
        "plt.show()\n"
      ]
    }
  ]
}