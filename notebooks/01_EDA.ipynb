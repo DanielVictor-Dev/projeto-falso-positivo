{
  "nbformat": 4,
  "nbformat_minor": 0,
  "metadata": {
    "colab": {
      "provenance": []
    },
    "kernelspec": {
      "name": "python3",
      "display_name": "Python 3"
    },
    "language_info": {
      "name": "python"
    }
  },
  "cells": [
    {
      "cell_type": "code",
      "execution_count": null,
      "metadata": {
        "id": "o9JYgsyfvB9W"
      },
      "outputs": [],
      "source": [
        "# EDA - Análise Exploratória de Dados\n",
        "import pandas as pd\n",
        "import seaborn as sns\n",
        "import matplotlib.pyplot as plt\n",
        "\n",
        "df = pd.read_csv('../data/transacoes.csv')\n",
        "\n",
        "sns.countplot(data=df, x='canal', hue='fraude')\n",
        "plt.title(\"Fraudes por Canal\")\n",
        "plt.show()\n"
      ]
    }
  ]
}